{
 "cells": [
  {
   "cell_type": "code",
   "execution_count": 1,
   "id": "partial-framework",
   "metadata": {},
   "outputs": [],
   "source": [
    "import os\n",
    "import logging\n",
    "import pandas as pd\n",
    "import numpy as np\n",
    "from collections import defaultdict"
   ]
  },
  {
   "cell_type": "code",
   "execution_count": 18,
   "id": "auburn-estate",
   "metadata": {},
   "outputs": [],
   "source": [
    "def get_sample_files(path,outfile):\n",
    "    samples = defaultdict(dict)\n",
    "    seen = set()\n",
    "    for dir_name, sub_dirs, files in os.walk(os.path.abspath(path)):\n",
    "        for fname in files:\n",
    "\n",
    "            if \".fastq\" in fname or \".fq\" in fname:\n",
    "\n",
    "                sample_id = fname.split(\".fastq\")[0].split(\".fq\")[0]\n",
    "\n",
    "                sample_id = sample_id.replace(\"_R1\", \"\").replace(\"_r1\", \"\").replace(\"_R2\", \"\").replace(\"_r2\", \"\")\n",
    "                #sample_id = sample_id.replace(\"_\", \"-\").replace(\" \", \"-\")\n",
    "\n",
    "                fq_path = os.path.join(dir_name, fname)\n",
    "\n",
    "                if fq_path in seen: continue\n",
    "\n",
    "                if \"_R2\" in fname or \"_r2\" in fname:\n",
    "\n",
    "                    if 'R2' in samples[sample_id]:\n",
    "                        logging.error(f\"Duplicate sample {sample_id} was found after renaming; skipping... \\n Samples: \\n{samples}\")\n",
    "\n",
    "                    samples[sample_id]['R2'] = fq_path\n",
    "                else:\n",
    "                    if 'R1' in samples[sample_id]:\n",
    "                        logging.error(f\"Duplicate sample {sample_id} was found after renaming; skipping... \\n Samples: \\n{samples}\")\n",
    "\n",
    "                    samples[sample_id]['R1'] = fq_path\n",
    "\n",
    "\n",
    "    samples= pd.DataFrame(samples).T\n",
    "    samples['GROUP']=samples.index.to_series().apply(lambda x: int(x.split(\"-\")[1]) < 101).map({True: 'lib1', False:'lib2'})\n",
    "\n",
    "    if samples.isna().any().any():\n",
    "        logging.error(f\"Missing files:\\n {samples}\")\n",
    "\n",
    "    #if os.path.exists(outfile):\n",
    "        #logging.error(f\"Output file {outfile} already exists I don't dare to overwrite it.\")\n",
    "        #exit(1)\n",
    "    else:\n",
    "        samples.to_csv(outfile,sep='\\t')\n",
    "\n",
    "\n",
    "    return samples"
   ]
  },
  {
   "cell_type": "code",
   "execution_count": 19,
   "id": "bright-chapter",
   "metadata": {},
   "outputs": [
    {
     "data": {
      "text/html": [
       "<div>\n",
       "<style scoped>\n",
       "    .dataframe tbody tr th:only-of-type {\n",
       "        vertical-align: middle;\n",
       "    }\n",
       "\n",
       "    .dataframe tbody tr th {\n",
       "        vertical-align: top;\n",
       "    }\n",
       "\n",
       "    .dataframe thead th {\n",
       "        text-align: right;\n",
       "    }\n",
       "</style>\n",
       "<table border=\"1\" class=\"dataframe\">\n",
       "  <thead>\n",
       "    <tr style=\"text-align: right;\">\n",
       "      <th></th>\n",
       "      <th>R1</th>\n",
       "      <th>R2</th>\n",
       "      <th>GROUP</th>\n",
       "    </tr>\n",
       "  </thead>\n",
       "  <tbody>\n",
       "    <tr>\n",
       "      <th>AUPO-177</th>\n",
       "      <td>/home/lvelo/working_directory/microbiology/MET...</td>\n",
       "      <td>/home/lvelo/working_directory/microbiology/MET...</td>\n",
       "      <td>lib2</td>\n",
       "    </tr>\n",
       "    <tr>\n",
       "      <th>AUPO-176</th>\n",
       "      <td>/home/lvelo/working_directory/microbiology/MET...</td>\n",
       "      <td>/home/lvelo/working_directory/microbiology/MET...</td>\n",
       "      <td>lib2</td>\n",
       "    </tr>\n",
       "    <tr>\n",
       "      <th>AUPO-100</th>\n",
       "      <td>/home/lvelo/working_directory/microbiology/MET...</td>\n",
       "      <td>/home/lvelo/working_directory/microbiology/MET...</td>\n",
       "      <td>lib1</td>\n",
       "    </tr>\n",
       "    <tr>\n",
       "      <th>AUPO-99</th>\n",
       "      <td>/home/lvelo/working_directory/microbiology/MET...</td>\n",
       "      <td>/home/lvelo/working_directory/microbiology/MET...</td>\n",
       "      <td>lib1</td>\n",
       "    </tr>\n",
       "  </tbody>\n",
       "</table>\n",
       "</div>"
      ],
      "text/plain": [
       "                                                         R1  \\\n",
       "AUPO-177  /home/lvelo/working_directory/microbiology/MET...   \n",
       "AUPO-176  /home/lvelo/working_directory/microbiology/MET...   \n",
       "AUPO-100  /home/lvelo/working_directory/microbiology/MET...   \n",
       "AUPO-99   /home/lvelo/working_directory/microbiology/MET...   \n",
       "\n",
       "                                                         R2 GROUP  \n",
       "AUPO-177  /home/lvelo/working_directory/microbiology/MET...  lib2  \n",
       "AUPO-176  /home/lvelo/working_directory/microbiology/MET...  lib2  \n",
       "AUPO-100  /home/lvelo/working_directory/microbiology/MET...  lib1  \n",
       "AUPO-99   /home/lvelo/working_directory/microbiology/MET...  lib1  "
      ]
     },
     "execution_count": 19,
     "metadata": {},
     "output_type": "execute_result"
    }
   ],
   "source": [
    "D = get_sample_files(\"/home/lvelo/working_directory/microbiology/METEL/00_raw/\",\"METEL.tsv\")\n",
    "D"
   ]
  }
 ],
 "metadata": {
  "kernelspec": {
   "display_name": "Python 3",
   "language": "python",
   "name": "python3"
  },
  "language_info": {
   "codemirror_mode": {
    "name": "ipython",
    "version": 3
   },
   "file_extension": ".py",
   "mimetype": "text/x-python",
   "name": "python",
   "nbconvert_exporter": "python",
   "pygments_lexer": "ipython3",
   "version": "3.7.9"
  }
 },
 "nbformat": 4,
 "nbformat_minor": 5
}
