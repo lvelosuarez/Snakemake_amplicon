{
 "cells": [
  {
   "cell_type": "code",
   "execution_count": 1,
   "id": "pressing-kuwait",
   "metadata": {},
   "outputs": [],
   "source": [
    "import os\n",
    "import logging\n",
    "import pandas as pd\n",
    "from collections import defaultdict"
   ]
  },
  {
   "cell_type": "code",
   "execution_count": 2,
   "id": "present-discussion",
   "metadata": {},
   "outputs": [],
   "source": [
    "def get_sample_files(path,outfile='samples.tsv'):\n",
    "    samples = defaultdict(dict)\n",
    "    seen = set()\n",
    "    for dir_name, sub_dirs, files in os.walk(os.path.abspath(path)):\n",
    "        for fname in files:\n",
    "\n",
    "            if \".fastq\" in fname or \".fq\" in fname:\n",
    "\n",
    "                sample_id = fname.split(\".fastq\")[0].split(\".fq\")[0]\n",
    "\n",
    "                sample_id = sample_id.replace(\"_R1\", \"\").replace(\"_r1\", \"\").replace(\"_R2\", \"\").replace(\"_r2\", \"\")\n",
    "                sample_id = sample_id.replace(\"_\", \"-\").replace(\" \", \"-\")\n",
    "\n",
    "                fq_path = os.path.join(dir_name, fname)\n",
    "\n",
    "                if fq_path in seen: continue\n",
    "\n",
    "                if \"_R2\" in fname or \"_r2\" in fname:\n",
    "\n",
    "                    if 'R2' in samples[sample_id]:\n",
    "                        logging.error(f\"Duplicate sample {sample_id} was found after renaming; skipping... \\n Samples: \\n{samples}\")\n",
    "\n",
    "                    samples[sample_id]['R2'] = fq_path\n",
    "                else:\n",
    "                    if 'R1' in samples[sample_id]:\n",
    "                        logging.error(f\"Duplicate sample {sample_id} was found after renaming; skipping... \\n Samples: \\n{samples}\")\n",
    "\n",
    "                    samples[sample_id]['R1'] = fq_path\n",
    "\n",
    "\n",
    "    samples= pd.DataFrame(samples).T\n",
    "\n",
    "    if samples.isna().any().any():\n",
    "        logging.error(f\"Missing files:\\n {samples}\")\n",
    "\n",
    "    if os.path.exists(outfile):\n",
    "        logging.error(f\"Output file {outfile} already exists I don't dare to overwrite it.\")\n",
    "        exit(1)\n",
    "    else:\n",
    "        samples.to_csv(outfile,sep='\\t')\n",
    "\n",
    "\n",
    "    return samples"
   ]
  },
  {
   "cell_type": "code",
   "execution_count": 3,
   "id": "developed-volleyball",
   "metadata": {},
   "outputs": [
    {
     "data": {
      "text/html": [
       "<div>\n",
       "<style scoped>\n",
       "    .dataframe tbody tr th:only-of-type {\n",
       "        vertical-align: middle;\n",
       "    }\n",
       "\n",
       "    .dataframe tbody tr th {\n",
       "        vertical-align: top;\n",
       "    }\n",
       "\n",
       "    .dataframe thead th {\n",
       "        text-align: right;\n",
       "    }\n",
       "</style>\n",
       "<table border=\"1\" class=\"dataframe\">\n",
       "  <thead>\n",
       "    <tr style=\"text-align: right;\">\n",
       "      <th></th>\n",
       "      <th>R2</th>\n",
       "      <th>R1</th>\n",
       "    </tr>\n",
       "  </thead>\n",
       "  <tbody>\n",
       "    <tr>\n",
       "      <th>AUPO-187</th>\n",
       "      <td>/WORKING_DIRECTORY/lvelo/my_pipes/amplicon_pip...</td>\n",
       "      <td>/WORKING_DIRECTORY/lvelo/my_pipes/amplicon_pip...</td>\n",
       "    </tr>\n",
       "    <tr>\n",
       "      <th>AUPO-178</th>\n",
       "      <td>/WORKING_DIRECTORY/lvelo/my_pipes/amplicon_pip...</td>\n",
       "      <td>/WORKING_DIRECTORY/lvelo/my_pipes/amplicon_pip...</td>\n",
       "    </tr>\n",
       "    <tr>\n",
       "      <th>AUPO-186</th>\n",
       "      <td>/WORKING_DIRECTORY/lvelo/my_pipes/amplicon_pip...</td>\n",
       "      <td>/WORKING_DIRECTORY/lvelo/my_pipes/amplicon_pip...</td>\n",
       "    </tr>\n",
       "    <tr>\n",
       "      <th>AUPO-179</th>\n",
       "      <td>/WORKING_DIRECTORY/lvelo/my_pipes/amplicon_pip...</td>\n",
       "      <td>/WORKING_DIRECTORY/lvelo/my_pipes/amplicon_pip...</td>\n",
       "    </tr>\n",
       "    <tr>\n",
       "      <th>AUPO-182</th>\n",
       "      <td>/WORKING_DIRECTORY/lvelo/my_pipes/amplicon_pip...</td>\n",
       "      <td>/WORKING_DIRECTORY/lvelo/my_pipes/amplicon_pip...</td>\n",
       "    </tr>\n",
       "    <tr>\n",
       "      <th>AUPO-180</th>\n",
       "      <td>/WORKING_DIRECTORY/lvelo/my_pipes/amplicon_pip...</td>\n",
       "      <td>/WORKING_DIRECTORY/lvelo/my_pipes/amplicon_pip...</td>\n",
       "    </tr>\n",
       "    <tr>\n",
       "      <th>AUPO-184</th>\n",
       "      <td>/WORKING_DIRECTORY/lvelo/my_pipes/amplicon_pip...</td>\n",
       "      <td>/WORKING_DIRECTORY/lvelo/my_pipes/amplicon_pip...</td>\n",
       "    </tr>\n",
       "    <tr>\n",
       "      <th>AUPO-183</th>\n",
       "      <td>/WORKING_DIRECTORY/lvelo/my_pipes/amplicon_pip...</td>\n",
       "      <td>/WORKING_DIRECTORY/lvelo/my_pipes/amplicon_pip...</td>\n",
       "    </tr>\n",
       "    <tr>\n",
       "      <th>AUPO-181</th>\n",
       "      <td>/WORKING_DIRECTORY/lvelo/my_pipes/amplicon_pip...</td>\n",
       "      <td>/WORKING_DIRECTORY/lvelo/my_pipes/amplicon_pip...</td>\n",
       "    </tr>\n",
       "    <tr>\n",
       "      <th>AUPO-185</th>\n",
       "      <td>/WORKING_DIRECTORY/lvelo/my_pipes/amplicon_pip...</td>\n",
       "      <td>/WORKING_DIRECTORY/lvelo/my_pipes/amplicon_pip...</td>\n",
       "    </tr>\n",
       "  </tbody>\n",
       "</table>\n",
       "</div>"
      ],
      "text/plain": [
       "                                                         R2  \\\n",
       "AUPO-187  /WORKING_DIRECTORY/lvelo/my_pipes/amplicon_pip...   \n",
       "AUPO-178  /WORKING_DIRECTORY/lvelo/my_pipes/amplicon_pip...   \n",
       "AUPO-186  /WORKING_DIRECTORY/lvelo/my_pipes/amplicon_pip...   \n",
       "AUPO-179  /WORKING_DIRECTORY/lvelo/my_pipes/amplicon_pip...   \n",
       "AUPO-182  /WORKING_DIRECTORY/lvelo/my_pipes/amplicon_pip...   \n",
       "AUPO-180  /WORKING_DIRECTORY/lvelo/my_pipes/amplicon_pip...   \n",
       "AUPO-184  /WORKING_DIRECTORY/lvelo/my_pipes/amplicon_pip...   \n",
       "AUPO-183  /WORKING_DIRECTORY/lvelo/my_pipes/amplicon_pip...   \n",
       "AUPO-181  /WORKING_DIRECTORY/lvelo/my_pipes/amplicon_pip...   \n",
       "AUPO-185  /WORKING_DIRECTORY/lvelo/my_pipes/amplicon_pip...   \n",
       "\n",
       "                                                         R1  \n",
       "AUPO-187  /WORKING_DIRECTORY/lvelo/my_pipes/amplicon_pip...  \n",
       "AUPO-178  /WORKING_DIRECTORY/lvelo/my_pipes/amplicon_pip...  \n",
       "AUPO-186  /WORKING_DIRECTORY/lvelo/my_pipes/amplicon_pip...  \n",
       "AUPO-179  /WORKING_DIRECTORY/lvelo/my_pipes/amplicon_pip...  \n",
       "AUPO-182  /WORKING_DIRECTORY/lvelo/my_pipes/amplicon_pip...  \n",
       "AUPO-180  /WORKING_DIRECTORY/lvelo/my_pipes/amplicon_pip...  \n",
       "AUPO-184  /WORKING_DIRECTORY/lvelo/my_pipes/amplicon_pip...  \n",
       "AUPO-183  /WORKING_DIRECTORY/lvelo/my_pipes/amplicon_pip...  \n",
       "AUPO-181  /WORKING_DIRECTORY/lvelo/my_pipes/amplicon_pip...  \n",
       "AUPO-185  /WORKING_DIRECTORY/lvelo/my_pipes/amplicon_pip...  "
      ]
     },
     "execution_count": 3,
     "metadata": {},
     "output_type": "execute_result"
    }
   ],
   "source": [
    "get_sample_files(\"/WORKING_DIRECTORY/lvelo/my_pipes/amplicon_pipeline/data/00_RAW/\")"
   ]
  },
  {
   "cell_type": "code",
   "execution_count": 5,
   "id": "appropriate-contrary",
   "metadata": {},
   "outputs": [
    {
     "name": "stdout",
     "output_type": "stream",
     "text": [
      "/WORKING_DIRECTORY/lvelo/microbiology/LUMI\n"
     ]
    }
   ],
   "source": [
    "! pwd"
   ]
  }
 ],
 "metadata": {
  "kernelspec": {
   "display_name": "Python 3",
   "language": "python",
   "name": "python3"
  },
  "language_info": {
   "codemirror_mode": {
    "name": "ipython",
    "version": 3
   },
   "file_extension": ".py",
   "mimetype": "text/x-python",
   "name": "python",
   "nbconvert_exporter": "python",
   "pygments_lexer": "ipython3",
   "version": "3.7.9"
  }
 },
 "nbformat": 4,
 "nbformat_minor": 5
}
